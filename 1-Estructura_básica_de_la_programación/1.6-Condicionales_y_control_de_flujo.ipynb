{
 "cells": [
  {
   "cell_type": "markdown",
   "id": "4f3bb035",
   "metadata": {},
   "source": [
    "# Condicionales y control de flujo\n",
    "\n",
    "En este _notebook_ veremos una forma de control de flujo de un programa a través de _declaraciones condicionales_, que son bloques de código cuya ejecución está sujeta al cumplimiento de alguna _condición_."
   ]
  },
  {
   "cell_type": "markdown",
   "id": "f5519167",
   "metadata": {},
   "source": [
    "## Condicionales\n",
    "\n",
    "### Declaraciones `if` (_if statements_)\n",
    "\n",
    "Al momento de escribir programas, es útil poder ejecutar algunos comandos especiales _sólo si se cumplen ciertas condiciones_. La manera de hacer esto es con _declaraciones **condicionales**_; las más sencillas son del tipo\n",
    "\n",
    "$$\\textit{si sucede 'x', entonces haz 'y'}.$$\n",
    "\n",
    "Un ejemplo de una declaración de este tipo en Julia es el siguiente:"
   ]
  },
  {
   "cell_type": "code",
   "execution_count": 1,
   "id": "391fd507",
   "metadata": {},
   "outputs": [],
   "source": [
    "v = 1 \n",
    "\n",
    "if v > 2\n",
    "    \n",
    "    println(\"¡Lo lograste!\")\n",
    "    \n",
    "end"
   ]
  },
  {
   "cell_type": "markdown",
   "id": "49be1ec6",
   "metadata": {},
   "source": [
    "Si ejecutamos la celda anterior, no obtenemos ninguna salida, pues la condición `v > 2` **no se cumple**.\n",
    "\n",
    "**Ejercicio** Comenta el código de la celda anterior y menciona todas las formas diferentes que se te ocurran para obtener una salida de la celda cambiándole **sólo un símbolo** al código (existen al menos cuatro)."
   ]
  },
  {
   "cell_type": "code",
   "execution_count": 3,
   "id": "0115d495",
   "metadata": {},
   "outputs": [],
   "source": [
    "v = 1 #Se crea una variable a la cual se le asigna el valor 1.\n",
    "\n",
    "if v > 2 #Hacemos una declaración usando el condicional if para indicar una condición a cumplir para el valor v.\n",
    "    \n",
    "    println(\"¡Lo lograste!\") #Indicamos que si se cumple la condición de que el valor de v sea mayor que 2, entonces, imprima la frase \"Lo lograste\".\n",
    "\n",
    "end # Se termina la ejecución que sigue a la condición if."
   ]
  },
  {
   "cell_type": "code",
   "execution_count": 2,
   "id": "40c3b55e",
   "metadata": {},
   "outputs": [
    {
     "name": "stdout",
     "output_type": "stream",
     "text": [
      "¡Lo lograste!\n"
     ]
    }
   ],
   "source": [
    "v = 3 #Para obtener una salida, podemos cambiar el valor de la variable para que se cumpla la condición y se imprima la frase.\n",
    "\n",
    "if v > 2\n",
    "    \n",
    "    println(\"¡Lo lograste!\")\n",
    "    \n",
    "end"
   ]
  },
  {
   "cell_type": "code",
   "execution_count": 4,
   "id": "4a624238",
   "metadata": {},
   "outputs": [
    {
     "name": "stdout",
     "output_type": "stream",
     "text": [
      "¡Lo lograste!\n"
     ]
    }
   ],
   "source": [
    "v = 1 \n",
    "\n",
    "if v < 2 #Para obtener una salida, podemos cambiar el operador de comparación, para que al comparar el valor de v con la condición esta se cumpla y entonces se imprima la frase.\n",
    "    \n",
    "    println(\"¡Lo lograste!\")\n",
    "    \n",
    "end    "
   ]
  },
  {
   "cell_type": "code",
   "execution_count": 5,
   "id": "9794a6cd",
   "metadata": {},
   "outputs": [
    {
     "name": "stdout",
     "output_type": "stream",
     "text": [
      "¡Lo lograste!\n"
     ]
    }
   ],
   "source": [
    "v = 1 \n",
    "\n",
    "if v > -2 #Modificamos el signo del valor que le asignamos a la condición que tenemos, para que asi se cumpla la condición y entonces se imprima la oración.\n",
    "    \n",
    "    println(\"¡Lo lograste!\")\n",
    "    \n",
    "end"
   ]
  },
  {
   "cell_type": "code",
   "execution_count": 8,
   "id": "9f565916",
   "metadata": {},
   "outputs": [
    {
     "name": "stdout",
     "output_type": "stream",
     "text": [
      "¡Lo lograste!\n"
     ]
    }
   ],
   "source": [
    "v = 1 \n",
    "\n",
    "if v > 0 #Cambiamos el valor asignada a la condición, para que al ejecutar el código, el valor asignado a la variable v cumpla la condición y entonces se imprima la frase\n",
    "    \n",
    "    println(\"¡Lo lograste!\")\n",
    "    \n",
    "end"
   ]
  },
  {
   "cell_type": "markdown",
   "id": "dca0a3fb",
   "metadata": {},
   "source": [
    "Las declaraciones condicionales como la del ejemplo anterior se conocen como **declaraciones `if`**, pues esta palabra significa \"si\" en inglés. La sintáxis general de una declaración `if` en Julia es:\n",
    "\n",
    "$\\color{green}{\\textbf{if}} \\ \\ \\text{condition}$\n",
    "\n",
    "$\\quad \\quad \\text{then...}$\n",
    "\n",
    "$\\color{green}{\\textbf{end}}$\n",
    "\n",
    "donde\n",
    "\n",
    "* $\\text{condition}$ es una expresión que se reduce a un [valor de tipo Booleano](./1.5-Operaciones_lógicas_y_valores_Booleanos.ipynb) (`true` o `false`) y\n",
    "* $\\text{then...}$ es todo el código que se encuentre entre la condición ($\\text{condition}$) y el final de la declaración ($\\color{green}{\\textbf{end}}$).\n",
    "\n",
    "La idea básica de una declaración `if` es: si, al ejecutar el código, la expresión $\\text{condition}$ se evalúa al valor Booleano `true`, se ejecutará el bloque de código $\\text{then...}$."
   ]
  },
  {
   "cell_type": "markdown",
   "id": "902741df",
   "metadata": {},
   "source": [
    "**Ejercicio** Escribe una celda de código en donde se defina una variable y:\n",
    "* si la variable es mayor que cinco, imprima la frase _mayor que cinco_;\n",
    "* si la variable es menor o igual que cinco, imprima la frase _menor o igual que cinco_.\n",
    "\n",
    "(Sugerencia: utiliza dos declaraciones `if`.)"
   ]
  },
  {
   "cell_type": "code",
   "execution_count": 16,
   "id": "7b831d63",
   "metadata": {},
   "outputs": [
    {
     "name": "stdout",
     "output_type": "stream",
     "text": [
      "Menor o igual que cinco\n"
     ]
    }
   ],
   "source": [
    "#Creamos una variable, que como su nombre lo indica, su valor puede cambiar.\n",
    "v = 5 \n",
    "\n",
    "#Hacemos la primer declaración empleando el condicional if donde usamos un operador de comparación entre la variable v y un valor 5.\n",
    "if v > 5\n",
    "    #Indicamos que si se cumple la condición anterior, entonces se imprima la frase \"Mayor que cinco\".   \n",
    "    println(\"Mayor que cinco\")\n",
    "    \n",
    "#Se termina la ejecución que sigue a la primer declaración de la primer condición if.   \n",
    "end \n",
    "\n",
    "#Hacemos la segunda declaración empleando el condicional if donde usamos un operador de comparación entre la variable v y un valor 5.\n",
    "if v <= 5 \n",
    "    \n",
    "    #Indicamos que si se cumple la condición anterior, entonces se imprima la frase \"Menor o igual que cinco\".\n",
    "    println(\"Menor o igual que cinco\")\n",
    "    \n",
    "#Se termina la ejecución que sigue a la segunda declaración de la segunda condición if.    \n",
    "end"
   ]
  },
  {
   "cell_type": "markdown",
   "id": "b5b381a9",
   "metadata": {},
   "source": [
    "**Ejercicio** Crea una nueva celda con un código que haga lo mismo que en el ejercicio anterior, pero **sólo** si la variable es de tipo `Int64`. Para hacerlo, primero escribe un diagrama de flujo\n",
    "(Sugerencia: ¡el bloque de código $\\text{then...}$ en una declaración condicional puede, en particular, contener más declaraciones `if`!)."
   ]
  },
  {
   "cell_type": "markdown",
   "id": "660bd5c1",
   "metadata": {},
   "source": [
    "**Solución** Para poder obtener una salida con datos numericos de tipo Int64 declararemos funciones para transformar valores numericos para x, en valores booleanos, para poder emplear la declaración if. Para comprender mejor el proceso observemos el siguiente diagrama de flujo:"
   ]
  },
  {
   "attachments": {
    "Diagrama%20de%20Flujo%28ExN1.6%29.png": {
     "image/png": "[encoded data removed]"
    }
   },
   "cell_type": "markdown",
   "id": "f978e2ff",
   "metadata": {},
   "source": [
    "![Diagrama%20de%20Flujo%28ExN1.6%29.png](attachment:Diagrama%20de%20Flujo%28ExN1.6%29.png)"
   ]
  },
  {
   "cell_type": "code",
   "execution_count": 13,
   "id": "a8646139",
   "metadata": {},
   "outputs": [
    {
     "ename": "LoadError",
     "evalue": "MethodError: no method matching llamarfalseSiEsFloat64(::Int64)\n\u001b[0mClosest candidates are:\n\u001b[0m  llamarfalseSiEsFloat64(\u001b[91m::Float64\u001b[39m) at In[13]:1",
     "output_type": "error",
     "traceback": [
      "MethodError: no method matching llamarfalseSiEsFloat64(::Int64)\n\u001b[0mClosest candidates are:\n\u001b[0m  llamarfalseSiEsFloat64(\u001b[91m::Float64\u001b[39m) at In[13]:1",
      "",
      "Stacktrace:",
      " [1] top-level scope",
      "   @ In[13]:7"
     ]
    }
   ],
   "source": [
    "#Declaramos un función que nos permita establecer un valor boleano (false), cuando el valor de la variable no sea de tipo Int64, entonces tendremos un tipo Float64.\n",
    "\n",
    "function llamarfalseSiEsFloat64(x::Float64)\n",
    "    \n",
    "    x=false \n",
    "    \n",
    "end\n",
    "\n",
    "llamarfalseSiEsFloat64(x)\n",
    "x"
   ]
  },
  {
   "cell_type": "code",
   "execution_count": 12,
   "id": "52bed493",
   "metadata": {},
   "outputs": [
    {
     "data": {
      "text/plain": [
       "-1000"
      ]
     },
     "execution_count": 12,
     "metadata": {},
     "output_type": "execute_result"
    }
   ],
   "source": [
    "#Declaramos una función que nos permita establecer un valor booleano (true) para cuando el valor de la variable sea de tipo Int64\n",
    "\n",
    "function llamartrueSiEsInt64(x::Int64)\n",
    "    x=true\n",
    "    \n",
    "end\n",
    "\n",
    "llamartrueSiEsInt64(x)\n",
    "x"
   ]
  },
  {
   "cell_type": "code",
   "execution_count": 11,
   "id": "d436127f",
   "metadata": {},
   "outputs": [
    {
     "name": "stdout",
     "output_type": "stream",
     "text": [
      "Menor o igual que cinco\n"
     ]
    }
   ],
   "source": [
    "#Creamos una variable, que como su nombre lo indica, cuyo valor puede cambiar.\n",
    "\n",
    "x = -1000\n",
    "\n",
    "#Alta de la variable true booleana\n",
    "llamartrueSiEsInt64(x)\n",
    "if true\n",
    "\n",
    "    #Hacemos la primer declaración empleando el condicional if donde usamos un operador de comparación entre la variable v y un valor 5.\n",
    "    if x > 5 \n",
    "        \n",
    "        #Indicamos que si se cumple la condición anterior, entonces se imprima la frase \"Mayor a cinco\".\n",
    "        println(\"Mayor que cinco\")\n",
    "        \n",
    "    #Se termina la ejecución que sigue a la primer declaración de la primer condición if.    \n",
    "    end\n",
    "    \n",
    "    #Hacemos la segunda declaración empleando el condicional if donde usamos un operador de comparación entre la variable v y un valor 5.\n",
    "    if x <= 5\n",
    "        \n",
    "        #Indicamos que si se cumple la condición anterior, entonces se imprima la frase \"Menor o igual a cinco\".\n",
    "        println(\"Menor o igual que cinco\")\n",
    "    \n",
    "    #Se termina la ejecución que sigue a la segunda declaración de la segunda condición if.    \n",
    "    end \n",
    "    \n",
    "#Se termina la ejecución.    \n",
    "end"
   ]
  },
  {
   "cell_type": "markdown",
   "id": "4b556afc",
   "metadata": {},
   "source": [
    "**Nota** Julia permite escribir declaraciones condicionales en una sola línea, por lo que la sintáxis\n",
    "\n",
    "$\\color{green}{\\textbf{if }} \\text{condition } \\text{then... } \\color{green}{\\textbf{end}}$\n",
    "\n",
    "también es válida para una declaración `if`. Sin embargo, se recomienda siempre utilizar el primer formato que presentamos, pues las diferentes líneas permiten hacer una distinción más clara entre _condición_ e _instrucciones_, mientras que la sangría deja en evidencia cuáles líneas de código están sujetas a la verificación de dicha condición."
   ]
  },
  {
   "cell_type": "markdown",
   "id": "36ea10dc",
   "metadata": {},
   "source": [
    "**Nota** Para condicionales `if` cuyas condiciones e instrucciones sean expresiones sencillas, existe la sintáxis\n",
    "\n",
    "`a ? b : c`\n",
    "\n",
    "donde\n",
    "\n",
    "* `a` es la condición a evaluar,\n",
    "* `b` es la expresión a ejecutar en caso de que `a` se evalúe a `true` y\n",
    "* `c` es la expresión a ejecutar en caso de que `a` se evalúe a `false`.\n",
    "\n",
    "Como ejemplo, ejecuta la siguiente celda de código para diferentes valores de `x` y `y`."
   ]
  },
  {
   "cell_type": "code",
   "execution_count": 2,
   "id": "a528c11b",
   "metadata": {},
   "outputs": [
    {
     "name": "stdout",
     "output_type": "stream",
     "text": [
      "3 es mayor que 0."
     ]
    }
   ],
   "source": [
    "x = 3\n",
    "y = 7\n",
    "\n",
    "(x > y) ? print(\"$x es mayor que $y.\") : print(\"$x es menor o igual a $y.\")"
   ]
  },
  {
   "cell_type": "markdown",
   "id": "36e3c708",
   "metadata": {},
   "source": [
    "### Declaraciones `if-else` (_if-else statements_)\n",
    "\n",
    "Después de haber hecho los ejercicios de la sección anterior, quizá habrás notado que, en el penúltimo ejercicio, la condición sobre la variable que definiste que da como resultado la frase _menor o igual que cinco_ es la **negación** de la condición que da como resultado _mayor que cinco_, por lo que pudimos haber escrito las declaraciones condicionales de esta forma:\n",
    "\n",
    "$\\color{green}{\\textbf{if }} \\text{condition}$\n",
    "\n",
    "$\\quad \\quad \\text{then...}$\n",
    "\n",
    "$\\color{green}{\\textbf{end}}$\n",
    "\n",
    "$\\color{green}{\\textbf{if}} \\ \\ \\color{magenta}{\\textbf{! }}\\text{condition}$\n",
    "\n",
    "$\\quad \\quad \\text{alternative...}$\n",
    "\n",
    "$\\color{green}{\\textbf{end}}$"
   ]
  },
  {
   "cell_type": "markdown",
   "id": "0237680f",
   "metadata": {},
   "source": [
    "Dado que cuando programamos es extremadamente común querer verificar una condición y, además de ejecutar cierto código si se verifica, tener un código alternativo a ejecutar si **no** se verifica, suele haber una forma más sencilla de escribir esto. En Julia se utiliza `else`, pues esta palabra significa \"si no/en caso contrario/de otro modo\" en inglés, y las declaraciones condicionales de este tipo se conocen como `if-else`. La sintáxis general de una declaración `if-else` en Julia es:\n",
    "\n",
    "$\\color{green}{\\textbf{if}} \\ \\ \\text{condition}$\n",
    "\n",
    "$\\quad \\quad \\text{then...}$\n",
    "\n",
    "$\\color{green}{\\textbf{else}}$\n",
    "\n",
    "$\\quad \\quad \\text{alternative...}$\n",
    "\n",
    "$\\color{green}{\\textbf{end}}$\n",
    "\n",
    "La idea básica de una declaración `if-else` es: si, al ejecutar el código, la expresión $\\text{condition}$ se evalúa a `true`, se ejecutará el bloque de código $\\text{then...}$ mientras que, si se evalúa a `false`, se ejecutará el bloque de código $\\text{alternative...}$."
   ]
  },
  {
   "cell_type": "markdown",
   "id": "6536eb3b",
   "metadata": {},
   "source": [
    "**Ejercicio** Reescribe tu solución del penúltimo ejercicio de la sección **Declaraciones `if` (_if statements_)** utilizando una declaración `if-else`.\n",
    "\n",
    "**Solución:** En este caso, reescribi la solución empleando sintaxis de \"elseif\" para poder poder tener una representación clara y precisa de donde inicia y donde termina cada declaración."
   ]
  },
  {
   "cell_type": "code",
   "execution_count": 21,
   "id": "a21b4eea",
   "metadata": {},
   "outputs": [
    {
     "name": "stdout",
     "output_type": "stream",
     "text": [
      "Mayor que cinco\n"
     ]
    }
   ],
   "source": [
    "#Definimos una variable\n",
    "x = 10\n",
    "\n",
    "#Se verifica si x es de tipo Int64 y mayor que 5\n",
    "if typeof(x) == Int64 && x > 5\n",
    "    \n",
    "    #Si se cumple la condición se imprime la frase.\n",
    "    println(\"Mayor que cinco\")\n",
    "    \n",
    "#Se verificar si x es de tipo Int64 y menor o igual a 5.    \n",
    "elseif typeof(x) == Int64 && x <= 5\n",
    "    \n",
    "    #Si se cumple la condición se imprime la frase.\n",
    "    println(\"Menor o igual que cinco\")\n",
    "\n",
    "#No se imprime respuesta si x es de tipo Float64.   \n",
    "elseif typeof(x) == Float64\n",
    "# No hacer nada\n",
    "else\n",
    "    \n",
    "    println(\"La variable no es de tipo Int64\")\n",
    "\n",
    "#Se termina la ejecución.\n",
    "end"
   ]
  },
  {
   "cell_type": "markdown",
   "id": "c539ed63",
   "metadata": {},
   "source": [
    "Al usar declaraciones condicionales, estamos haciendo uso de los [valores Booleanos](./1.5-Operaciones_lógicas_y_valores_Booleanos.ipynb) para _controlar el flujo_ de nuestro programa, pues un código que contenga condicionales ya no se ejecutará siguiendo el flujo estándar -línea por línea de arriba hacia abajo-, sino que tendrá una _bifurcación_ por cada condicional, donde el camino a elegir será determinado por la evaluación de la condición correspondiente."
   ]
  },
  {
   "cell_type": "markdown",
   "id": "f61b1401",
   "metadata": {},
   "source": [
    "### Declaraciones `if-elseif-else` (_if-elseif-else statements_)\n",
    "\n",
    "Existe otra situación recurrente cuando queremos programar en función de que se cumplan o no ciertas condiciones: esto es cuando, más allá de sólo querer verificar si _una_ condición se cumple o no, queremos verificar **si _alguna_ de varias condiciones se cumple**, especificar **para cada una de las condiciones** lo que sucederá si se llega a cumplir, y especificar qué sucederá si **ninguna** de ellas se cumple. Con lo que sabemos, podríamos escribir un proceso así como sigue:\n",
    "\n",
    "$\\color{green}{\\textbf{if}} \\ \\ \\text{condition1}$\n",
    "\n",
    "$\\quad \\quad \\text{then}1...$\n",
    "\n",
    "$\\color{green}{\\textbf{else}}$\n",
    "\n",
    "$\\quad \\quad \\color{green}{\\textbf{if}} \\ \\ \\text{condition2}$\n",
    "\n",
    "$\\quad \\quad \\quad \\quad \\text{then}2...$\n",
    "\n",
    "$\\quad \\quad \\color{green}{\\textbf{else}}$\n",
    "\n",
    "$\\quad \\quad \\quad \\quad \\color{green}{\\textbf{if}} \\ \\ \\text{condition3}$\n",
    "\n",
    "$\\quad \\quad \\quad \\quad \\quad \\quad \\text{then}3...$\n",
    "\n",
    "$\\quad \\quad \\quad \\quad \\color{green}{\\textbf{else}}$\n",
    "\n",
    "$\\quad \\quad \\quad \\quad \\quad \\quad \\quad \\quad \\quad \\quad \\dots$\n",
    "\n",
    "$\\quad \\quad \\quad \\quad \\quad \\quad \\quad \\quad \\quad \\quad \\quad \\quad \\color{green}{\\textbf{if}} \\ \\ \\text{condition}N$\n",
    "\n",
    "$\\quad \\quad \\quad \\quad \\quad \\quad \\quad \\quad \\quad \\quad \\quad \\quad \\quad \\quad \\text{then}N...$\n",
    "\n",
    "$\\quad \\quad \\quad \\quad \\quad \\quad \\quad \\quad \\quad \\quad \\quad \\quad \\color{green}{\\textbf{else}}$\n",
    "\n",
    "$\\quad \\quad \\quad \\quad \\quad \\quad \\quad \\quad \\quad \\quad \\quad \\quad \\quad \\quad \\text{alternative...}$\n",
    "\n",
    "$\\quad \\quad \\quad \\quad \\quad \\quad \\quad \\quad \\quad \\quad \\quad \\quad \\color{green}{\\textbf{end}}$\n",
    "\n",
    "$\\quad \\quad \\quad \\quad \\quad \\quad \\quad \\quad \\quad \\quad \\dots$\n",
    "\n",
    "$\\quad \\quad \\quad \\quad \\color{green}{\\textbf{end}}$\n",
    "\n",
    "$\\quad \\quad \\color{green}{\\textbf{end}}$\n",
    "\n",
    "$\\color{green}{\\textbf{end}}$"
   ]
  },
  {
   "cell_type": "markdown",
   "id": "8cb55b34",
   "metadata": {},
   "source": [
    "En este caso, el bloque de código que se ejecutará si **ninguna** de las condiciones de las declaraciones `if` se cumple es $\\text{alternative...}$. \n",
    "\n",
    "Las \"cascadas\" de declaraciones `if-else` anidadas, como la anterior, a menudo son difíciles de entender a simple vista, lo cual complica poder programar procesos de este tipo. Afortunadamente, en Julia, existe una manera de simplificar este tipo de expresiones, utilizando la _keyword_ `elseif` para decir \"si no se cumple la condición anterior, entonces _si se cumple esta nueva condición_...\"; las declaraciones condicionales de este tipo se conocen como declaraciones `if-elseif-else`, y la sintáxis general de una declaración de este tipo en Julia es:"
   ]
  },
  {
   "cell_type": "markdown",
   "id": "282bc240",
   "metadata": {},
   "source": [
    "$\\color{green}{\\textbf{if}} \\ \\ \\text{condition1}$\n",
    "\n",
    "$\\quad \\quad \\text{then}1...$\n",
    "\n",
    "$\\color{green}{\\textbf{elseif}} \\ \\ \\text{condition2}$\n",
    "\n",
    "$\\quad \\quad \\text{then}2...$\n",
    "\n",
    "...\n",
    "\n",
    "$\\color{green}{\\textbf{elseif}} \\ \\ \\text{condition}N$\n",
    "\n",
    "$\\quad \\quad \\text{then}N...$\n",
    "\n",
    "$\\color{green}{\\textbf{else}}$\n",
    "\n",
    "$\\quad \\quad \\text{alternative...}$\n",
    "\n",
    "$\\color{green}{\\textbf{end}}$\n",
    "\n",
    "Esto es equivalente a la \"cascada\" de declaraciones `if-else` anidadas anterior, por lo que logra el mismo propósito ¡pero de forma mucho más clara!\n",
    "\n",
    "**Nota** _¡No todos los lenguajes de programación tienen algo parecido a `elseif`!_ Por ende, en muchos otros, en la práctica se tienen que anidar varias declaraciones `if` \"en cascada\" bajo una declaración `if` básica (cuya verificación sea un requisito previo a todas las declaraciones anidadas) para lograr un efecto parecido."
   ]
  },
  {
   "cell_type": "markdown",
   "id": "4a5bbad4",
   "metadata": {},
   "source": [
    "**Ejercicio** Escribe un código en donde defines una variable y, sólo si la variable es de tipo `Int64`, imprima la palabra _positivo_, _negativo_ o _cero_ dependiendo de si el número de tipo entero es positivo, negativo o cero, respectivamente."
   ]
  },
  {
   "cell_type": "code",
   "execution_count": 20,
   "id": "b4998456",
   "metadata": {},
   "outputs": [
    {
     "name": "stdout",
     "output_type": "stream",
     "text": [
      "positivo\n"
     ]
    }
   ],
   "source": [
    "# Se definine la variable y\n",
    "y = 1202\n",
    "\n",
    "#Usamos una declaración condicional para verificar si la variable y es de tipo Int64 usando asi mismo typeof()\n",
    "if typeof(y) == Int64\n",
    "    \n",
    "    #Se determina el tipo de número (positivo, negativo o cero) usando una construcción if-elseif\n",
    "    if y > 0\n",
    "        \n",
    "        println(\"positivo\")\n",
    "    \n",
    "    elseif y < 0\n",
    "        \n",
    "        println(\"negativo\")\n",
    "    \n",
    "    else\n",
    "        \n",
    "        println(\"cero\")\n",
    "    \n",
    "    end\n",
    "\n",
    "else\n",
    "   \n",
    "    #Si la varibae no cumple con ser de tipo Int64 se imprime la siguiente frase.\n",
    "    println(\"La variable no es de tipo Int64\")\n",
    "\n",
    "#Se termina la ejecución.    \n",
    "end"
   ]
  },
  {
   "cell_type": "markdown",
   "id": "e3f38c91",
   "metadata": {},
   "source": [
    "Una observación **crucial** sobre las declaraciones `if-elseif-else` en Julia es que **las condiciones se verifican secuencialmente de arriba hacia abajo** y que **las declaraciones `if-elseif-else` terminan de ejecutarse en cuanto una de las condiciones se verifica**. En efecto, todo esto se puede deducir haciendo un **diagrama de flujo** de las declaraciones `if-elseif-else` en Julia o, equivalentemente, recordando que estas declaraciones son equivalentes a anidar muchas declaraciones `if-else` \"en cascada\".\n",
    "\n",
    "Una consecuencia de esto es que, si escribimos una declaración `if-elseif-else` en la que una _misma_ condición aparece _varias veces_, sólo se ejecutará el bloque de código que se encuentra debajo de _la primera vez_ que aparece dicha condición. Por lo tanto, siempre que utilicemos este tipo de declaraciones condicionales, hay que **tener cuidado en cómo ordenamos nuestras condiciones** y **verificar que todas ellas funcionen correctamente**. En particular, _colocar primero las condiciones que más esperamos que se cumplan_ hará que se tengan que ejecutar menos líneas de código en promedio."
   ]
  },
  {
   "cell_type": "markdown",
   "id": "a8fa594d",
   "metadata": {},
   "source": [
    "**Ejercicio** Define una función de un parámetro llamada `EnteroOFlotante` que imprima la frase:\n",
    "* _¡Es de tipo entero!_ si recibe un argumento con algún tipo de dato numérico entero;\n",
    "* _¡Es de punto flotante!_ si recibe un argumento con algún tipo numérico de punto flotante;\n",
    "* _¡No sé qué es!_ si ninguna de las condiciones anteriores se cumple.\n",
    "\n",
    "Hazlo de tal forma que, si la variable introducida no es numérica, la función **marque un error** (Sugerencia: Utiliza el tipo de dato abstracto [`Number`](https://docs.julialang.org/en/v1/base/numbers/#Core.Number) -que engloba a todos los tipos de datos numéricos en Julia- y utiliza operadores lógicos y paréntesis en las condiciones que lo requieran)."
   ]
  },
  {
   "cell_type": "code",
   "execution_count": 16,
   "id": "30c46ba8",
   "metadata": {},
   "outputs": [
    {
     "data": {
      "text/plain": [
       "EnteroOFlotante (generic function with 1 method)"
      ]
     },
     "execution_count": 16,
     "metadata": {},
     "output_type": "execute_result"
    }
   ],
   "source": [
    "#La función EnteroOFlotante toma un argumento (z) y verifica si es un número entero, un número de punto flotante o de otro tipo.\n",
    "function EnteroOFlotante(z)\n",
    "    \n",
    "    #Para ello, utiliza la función isa para verificar si z es del tipo Number, \n",
    "    #que es el tipo abstracto que incluye a todos los tipos numéricos en Julia.\n",
    "    \n",
    "    if isa(z, Number) && round(z) == z\n",
    "        \n",
    "        #Si z es un número entero, se cumple la primera condición del if se imprime la frase. \n",
    "        println(\"¡Es de tipo entero!\")\n",
    "        \n",
    "    elseif isa(z, Number) && round(z) != z\n",
    "        \n",
    "        #Si z es un número de punto flotante, se cumple la segunda condición del if se imprime la frase\n",
    "        println(\"¡Es de punto flotante!\")\n",
    "    else\n",
    "        \n",
    "        #Si ninguna de estas condiciones se cumple, la función lanza un error.\n",
    "        error(\"¡No sé qué es!\")\n",
    "    end\n",
    "end"
   ]
  },
  {
   "cell_type": "markdown",
   "id": "6773fda3",
   "metadata": {},
   "source": [
    "Para llamar a la función EnteroOFlotante con un argumento, simplemente se debe escribir el nombre de la función seguido del valor que se desea analizar entre paréntesis. "
   ]
  },
  {
   "cell_type": "code",
   "execution_count": 17,
   "id": "67ec9708",
   "metadata": {},
   "outputs": [
    {
     "name": "stdout",
     "output_type": "stream",
     "text": [
      "¡Es de tipo entero!\n"
     ]
    }
   ],
   "source": [
    "EnteroOFlotante(12020)"
   ]
  },
  {
   "cell_type": "code",
   "execution_count": 18,
   "id": "0fb693fe",
   "metadata": {},
   "outputs": [
    {
     "name": "stdout",
     "output_type": "stream",
     "text": [
      "¡Es de punto flotante!\n"
     ]
    }
   ],
   "source": [
    "EnteroOFlotante(2.7163829)"
   ]
  },
  {
   "cell_type": "code",
   "execution_count": 19,
   "id": "4b08b763",
   "metadata": {},
   "outputs": [
    {
     "ename": "LoadError",
     "evalue": "¡No sé qué es!",
     "output_type": "error",
     "traceback": [
      "¡No sé qué es!",
      "",
      "Stacktrace:",
      " [1] error(s::String)",
      "   @ Base .\\error.jl:35",
      " [2] EnteroOFlotante(z::String)",
      "   @ Main .\\In[16]:7",
      " [3] top-level scope",
      "   @ In[19]:1"
     ]
    }
   ],
   "source": [
    "EnteroOFlotante(\"Hola\")"
   ]
  },
  {
   "cell_type": "markdown",
   "id": "8b62c76c",
   "metadata": {},
   "source": [
    "## Condicionales y alcance (_scope_)\n",
    "\n",
    "Las condicionales en Julia **no introducen alcance local**, lo que significa que las variables que definamos dentro de una declaración condicional se podrán utilizar después de que ésta termine, siempre y cuando la asignación correspondiente se haya realizado; es decir, siempre y cuando se haya ejecutado la porción del código donde se define la variable. Esto se puede ver ejecutando las siguientes tres celdas de código."
   ]
  },
  {
   "cell_type": "code",
   "execution_count": 53,
   "id": "89c76d71",
   "metadata": {},
   "outputs": [
    {
     "data": {
      "text/plain": [
       "\"2+2 es igual a 4.\""
      ]
     },
     "execution_count": 53,
     "metadata": {},
     "output_type": "execute_result"
    }
   ],
   "source": [
    "if (2+2) == 4\n",
    "    \n",
    "    variableNoLocal = \"2+2 es igual a 4.\"\n",
    "    \n",
    "elseif (2+2) < 4\n",
    "    \n",
    "    variableNoLocal2 = \"2+2 es menor a 4.\"\n",
    "    \n",
    "else\n",
    "    \n",
    "    variableNoLocal3 = \"2+2 es mayor a 4.\"\n",
    "    \n",
    "end"
   ]
  },
  {
   "cell_type": "code",
   "execution_count": 54,
   "id": "2b287003",
   "metadata": {},
   "outputs": [
    {
     "data": {
      "text/plain": [
       "\"2+2 es igual a 4.\""
      ]
     },
     "execution_count": 54,
     "metadata": {},
     "output_type": "execute_result"
    }
   ],
   "source": [
    "variableNoLocal #Esta variable tiene un valor asignado, pues ((2+2) == 4) == true"
   ]
  },
  {
   "cell_type": "code",
   "execution_count": 55,
   "id": "6bb6693e",
   "metadata": {
    "scrolled": true
   },
   "outputs": [
    {
     "ename": "LoadError",
     "evalue": "UndefVarError: variableNoLocal2 not defined",
     "output_type": "error",
     "traceback": [
      "UndefVarError: variableNoLocal2 not defined",
      ""
     ]
    }
   ],
   "source": [
    "variableNoLocal2 #Esta variable no tiene un valor asignado, pues ((2+2) < 4) == false"
   ]
  },
  {
   "cell_type": "markdown",
   "id": "880ab2d9",
   "metadata": {},
   "source": [
    "## Resumen\n",
    "\n",
    "Una declaración condicional (o, simplemente, _condicional_) nos permite escribir código cuya ejecución quede sujeta al cumplimiento de una condición particular. Los tres tipos de condicionales en Julia son:\n",
    "\n",
    "* `if`, para ejecutar código _sólo en caso de que se cumpla una condición_;\n",
    "* `if-else`, similar a `if` pero con un código alternativo a ejecutarse _en caso de que **no** se cumpla la condición_;\n",
    "* `if-elseif-else`, equivalente a anidar una declaración `if` dentro de una `if-else` pero con mejor sintáxis.\n",
    "\n",
    "En particular, en las condicionales `if-elseif-else`, en las que se evalúan varias condiciones, éstas se evalúan de arriba hacia abajo, y se terminan de ejecutar en cuanto _una_ de las condiciones se cumple y el código correspondiente es ejecutado. Por lo tanto, la mejor práctica es poner primero aquellas condiciones que tengan mayor probabilidad de verificarse.\n",
    "\n",
    "Además, las condicionales nos permiten controlar el flujo de nuestro programa, creando bifurcaciones en él cuando sea necesario."
   ]
  },
  {
   "cell_type": "markdown",
   "id": "25c986cb",
   "metadata": {},
   "source": [
    "## Recursos complementarios\n",
    "\n",
    "* Manual de [Evaluación condicional](https://docs.julialang.org/en/v1/manual/control-flow/#man-conditional-evaluation) en Julia."
   ]
  }
 ],
 "metadata": {
  "kernelspec": {
   "display_name": "Julia 1.8.5",
   "language": "julia",
   "name": "julia-1.8"
  },
  "language_info": {
   "file_extension": ".jl",
   "mimetype": "application/julia",
   "name": "julia",
   "version": "1.8.5"
  }
 },
 "nbformat": 4,
 "nbformat_minor": 5
}
