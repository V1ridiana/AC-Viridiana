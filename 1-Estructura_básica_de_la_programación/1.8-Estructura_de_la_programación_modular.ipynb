{
 "cells": [
  {
   "cell_type": "markdown",
   "id": "18d426ec",
   "metadata": {},
   "source": [
    "# Estructura de la programación modular\n",
    "\n",
    "En este _notebook_ discutiremos algunas de las limitaciones que conlleva escribir un programa en un solo archivo de texto, así como las soluciones que ofrece la llamada [_programación modular_](https://en.wikipedia.org/wiki/Modular_programming)."
   ]
  },
  {
   "cell_type": "markdown",
   "id": "ed14ea4f",
   "metadata": {},
   "source": [
    "## _Escribir un programa en un solo archivo puede ser problemático_\n",
    "\n",
    "Como vimos en el _notebook_ [`1.4-Variables_constantes_y_funciones.ipynb`](./1.4-Variables_constantes_y_funciones.ipynb), podemos definir nuestras propias funciones para ejecutar series de instrucciones específicas siempre que resulte conveniente, incluso modificando valores y/o variables si es necesario. Gran parte del poder de la programación yace en esta capacidad de poder crear nuestras propias funciones; sin embargo, con lo que hemos visto hasta el momento, esto también nos podría generar los siguientes problemas e inconvenientes:\n",
    "* si queremos usar algunas funciones para muchos programas distintos, tenemos que copiar y pegar las definiciones a cada uno de los archivos en que las queramos usar;\n",
    "* si, posteriormente, queremos modificar a una de las funciones en todos los programas en que la utilizamos, tenemos que modificar su definición en cada uno de los archivos en los que se define.\n",
    "\n",
    "Más aún, si queremos usar funciones que otra persona ha definido, tenemos que acceder al código fuente (esto es, si el código es abierto) y copiar y pegar las definiciones en todos los archivos en que las queramos usar, y sucedería algo similar si quisiéramos compartir nuestras propias funciones con otras personas."
   ]
  },
  {
   "cell_type": "markdown",
   "id": "6db92d3f",
   "metadata": {},
   "source": [
    "## Programación modular\n",
    "\n",
    "Todos los problemas mencionados anteriormente se podrían resolver si todas las funciones pudieran definirse en **un sólo archivo** (de código abierto), que pudiéramos _cargar_ en cada uno de los programas que las requieran. Afortunadamente, ¡esto es posible!\n",
    "\n",
    "Lo anterior es un ejemplo de **programación modular** donde, _en vez de escribir todo un programa_ (que puede tener una longitud y complejidad arbitraria) _en un solo archivo_, _lo separamos en varios archivos diferentes_ y, cada vez que una parte del código escrito en un archivo $a$ se requiera en un archivo $b$, podamos dar la instrucción de que se ejecute el código del archivo $a$ con algún comando en el archivo $b$."
   ]
  },
  {
   "cell_type": "markdown",
   "id": "aff6757e",
   "metadata": {},
   "source": [
    "### `include`\n",
    "\n",
    "En Julia, la función `include` sirve para ejecutar el código de otro archivo dentro del archivo donde se utilice esta función. Por ejemplo, para ejecutar el código (de Julia) de un archivo `a.jl` en otro archivo `b.jl`, escribiríamos el comando\n",
    "\n",
    "```include(\"a.jl\")```\n",
    "\n",
    "en alguna línea del archivo `b.jl`. En esencia, esto _equivale a reemplazar la línea anterior del archivo `b.jl` con todo el contenido del archivo `a.jl`_.\n",
    "\n",
    "Algunas consideraciones importantes al usar `include` son las siguientes.\n",
    "1. Como estamos trabajando en el paradigma imperativo, el código se ejecuta línea por línea de arriba hacia abajo.\n",
    "1. Si escribimos el comando `include(\"a.jl\")` varias veces en un archivo, entonces todos los contenidos de `a.jl` se ejecutarán cada vez que aparezca `include(\"a.jl\")` en el código.\n",
    "1. Si el argumento de `include` no incluye una dirección absoluta, se interpreta en relación a la dirección del archivo donde se utiliza esta función; es decir si, por ejemplo, `b.jl` está en la carpeta `~/MisArchivos/` (y, por ende, su dirección absoluta es `~/MisArchivos/b.jl`), entonces el comando `include(\"a.jl\")` en `b.jl` intentará ejecutar el archivo `~/MisArchivos/a.jl`."
   ]
  },
  {
   "cell_type": "markdown",
   "id": "87a151cc",
   "metadata": {},
   "source": [
    "No tener presentes las observaciones anteriores podría traernos problemas. Por ejemplo, supongamos que en `a.jl` se definen variables y/o funciones. Si alguna de ellas se utiliza en el código `b.jl` _antes_ del comando `include(\"a.jl\")` entonces, por 1, obtendremos un error de que aún no ha sido definida. Por otro lado, si usamos `include(\"a.jl\")` varias veces entonces, por 2, a las variables definidas en `a.jl` se les volverá a asignar el valor que tienen en ese archivo en cada línea donde se ejecute `include(\"a.jl\")`, lo cual puede no ser deseable. Más aún, si se incluye el código de dos archivos `a.jl` y `c.jl` en un archivo `b.jl`, entonces los códigos de los tres archivos deben ser compatibles, es decir, que no se utilicen los mismos nombres para variables (o funciones) que tengan asignaciones (o definiciones) diferentes para evitar colisiones de nombres o reasignaciones indeseadas."
   ]
  },
  {
   "cell_type": "markdown",
   "id": "c3170925",
   "metadata": {},
   "source": [
    "Algunos usos de la programación modular son los siguientes.\n",
    "* Definir todas las constantes que se utilicen en un programa en un archivo apartado del resto del programa.\n",
    "* Definir funciones que cumplan un objetivo específico y puedan ser utilizadas en una gran variedad de programas diferentes en un archivo aparte.\n",
    "* Partir un proyecto grande en varios subproyectos, permitiendo mayor claridad, independencia y organización.\n",
    "* Mover el código de una \"interfaz\" a un archivo apartado para que sea más fácil de refactorizar, es decir, de _reordenar su código \"interno\" sin cambiar su comportamiento \"externo\"_."
   ]
  },
  {
   "cell_type": "markdown",
   "id": "58a27410",
   "metadata": {},
   "source": [
    "## Módulos\n",
    "\n",
    "Una forma de hacer programación modular en Julia más sofisticada que usar `include` es usando módulos. Los **módulos** nos permiten organizar un código en unidades coherentes e independientes. Algunas de las ventajas de usar módulos incluyen:\n",
    "* poder incluir partes del código de un módulo _selectivamente_, es decir, sin necesidad de incluir _todo_ el código del módulo;\n",
    "* los módulos pueden ser _precompilados_ (es decir, convertidos a lenguaje de máquina) de antemano, ahorrándonos tiempo de cómputo."
   ]
  },
  {
   "cell_type": "markdown",
   "id": "cc4acb84",
   "metadata": {},
   "source": [
    "### Módulos estándar en Julia\n",
    "\n",
    "Julia tiene tres módulos estándar:\n",
    "\n",
    "* `Core`, que contiene todas las definiciones necesarias para que Julia tenga una funcionalidad mínima,\n",
    "* `Base`, que contiene toda la funcionalidad básica de Julia, y\n",
    "* `Main`, que es el módulo más alto en la jerarquía de módulos.\n",
    "\n",
    "Para poder funcionar de manera correcta -incluyendo la funcionalidad básica y la capacidad de cargar otros módulos-, _implícitamente_, Julia **siempre**:\n",
    "\n",
    "* se inicializa dentro del módulo `Main` y\n",
    "* carga los módulos `Core` y `Base`. "
   ]
  },
  {
   "cell_type": "markdown",
   "id": "68b00038",
   "metadata": {},
   "source": [
    "### Creación de módulos\n",
    "\n",
    "Para crear un módulo, utilizamos una sintáxis como la siguiente:"
   ]
  },
  {
   "cell_type": "code",
   "execution_count": 1,
   "id": "29b8c1b4",
   "metadata": {},
   "outputs": [
    {
     "data": {
      "text/plain": [
       "Main.MiMódulo"
      ]
     },
     "execution_count": 1,
     "metadata": {},
     "output_type": "execute_result"
    }
   ],
   "source": [
    "module MiMódulo                           # Inicializamos el módulo.\n",
    "\n",
    "export miFunción1, miFunción2             # Especificamos qué cosas definidas\n",
    "                                          # dentro del módulo podrán ser\n",
    "                                          # importadas en otros archivos.\n",
    "\n",
    "    function miFunción1()                 # Definimos las cosas que exporta-\n",
    "                                          # remos.\n",
    "        print(\"Acabas de llamar a miFunción1.\")\n",
    "    end\n",
    "\n",
    "    function miFunción2()\n",
    "\n",
    "        print(\"Acabas de llamar a miFunción2.\")\n",
    "    end\n",
    "\n",
    "    function miFunción3()\n",
    "\n",
    "        print(\"Acabas de llamar a miFunción3.\")\n",
    "    end\n",
    "end                                        # Finalizamos el módulo."
   ]
  },
  {
   "cell_type": "markdown",
   "id": "63b0adef",
   "metadata": {},
   "source": [
    "Notamos que la declaración $\\color{green}{\\texttt{module}}$, que inicia un bloque de código que Julia convertirá en un módulo y declara el nombre del módulo, va al inicio del archivo. Por conveniencia, justo después viene la declaración `export`, donde se nombran todas las variables, constantes, funciones, etcétera que queremos que puedan ser importadas en otros archivos, antes de que éstas sean definidas."
   ]
  },
  {
   "cell_type": "markdown",
   "id": "6cef54ed",
   "metadata": {},
   "source": [
    "### Carga de módulos\n",
    "\n",
    "#### `using`\n",
    "\n",
    "Una forma de cargar todos los contenidos de exportados por un módulo es utilizando la sintáxis `using NombreDelMódulo`. Por ejemplo, en el _notebook_ [`1.7-Ciclos.ipynb`](./1.7-Ciclos.ipynb), importamos todos los contenidos del módulo [`ThinkJulia`](https://github.com/BenLauwens/ThinkJulia.jl/blob/master/src/ThinkJulia.jl) con el siguiente comando:"
   ]
  },
  {
   "cell_type": "code",
   "execution_count": 2,
   "id": "164e7523",
   "metadata": {
    "scrolled": true
   },
   "outputs": [
    {
     "name": "stderr",
     "output_type": "stream",
     "text": [
      "\u001b[36m\u001b[1m[ \u001b[22m\u001b[39m\u001b[36m\u001b[1mInfo: \u001b[22m\u001b[39mPrecompiling ThinkJulia [a7f2b756-c18b-4c7f-87da-faca9ac81b29]\n",
      "\u001b[36m\u001b[1m[ \u001b[22m\u001b[39m\u001b[36m\u001b[1mInfo: \u001b[22m\u001b[39mSkipping precompilation since __precompile__(false). Importing ThinkJulia [a7f2b756-c18b-4c7f-87da-faca9ac81b29].\n"
     ]
    },
    {
     "ename": "LoadError",
     "evalue": "LoadError: ThinkJulia not installed properly, run Pkg.build(\"ThinkJulia\"), restart Julia and try again\nin expression starting at C:\\Users\\Asus\\.julia\\packages\\ThinkJulia\\REhsz\\src\\ThinkJulia.jl:1",
     "output_type": "error",
     "traceback": [
      "LoadError: ThinkJulia not installed properly, run Pkg.build(\"ThinkJulia\"), restart Julia and try again\nin expression starting at C:\\Users\\Asus\\.julia\\packages\\ThinkJulia\\REhsz\\src\\ThinkJulia.jl:1",
      "",
      "Stacktrace:",
      " [1] error(s::String)",
      "   @ Base .\\error.jl:35",
      " [2] top-level scope",
      "   @ C:\\Users\\Asus\\.julia\\packages\\ThinkJulia\\REhsz\\src\\ThinkJulia.jl:15",
      " [3] include",
      "   @ .\\Base.jl:419 [inlined]",
      " [4] _require(pkg::Base.PkgId)",
      "   @ Base .\\loading.jl:1367",
      " [5] _require_prelocked(uuidkey::Base.PkgId)",
      "   @ Base .\\loading.jl:1200",
      " [6] macro expansion",
      "   @ .\\loading.jl:1180 [inlined]",
      " [7] macro expansion",
      "   @ .\\lock.jl:223 [inlined]",
      " [8] require(into::Module, mod::Symbol)",
      "   @ Base .\\loading.jl:1144"
     ]
    }
   ],
   "source": [
    "using ThinkJulia"
   ]
  },
  {
   "cell_type": "markdown",
   "id": "5aa749b5",
   "metadata": {},
   "source": [
    "Después de haber ejecutado este comando, podremos llamar a todos los nombres que aparecen en la declaración `export` del módulo correspondiente sin problema alguno. Un ejemplo con el módulo que definimos anteriormente es:"
   ]
  },
  {
   "cell_type": "code",
   "execution_count": 3,
   "id": "1b56e5e1",
   "metadata": {},
   "outputs": [],
   "source": [
    "using Main.MiMódulo # Importamos el módulo que definimos anteriormente"
   ]
  },
  {
   "cell_type": "code",
   "execution_count": 4,
   "id": "a66c7fef",
   "metadata": {},
   "outputs": [
    {
     "name": "stdout",
     "output_type": "stream",
     "text": [
      "Acabas de llamar a miFunción2."
     ]
    }
   ],
   "source": [
    "miFunción2() # Lo que enlistamos en la declaración `export` funciona bien"
   ]
  },
  {
   "cell_type": "code",
   "execution_count": 5,
   "id": "d07e8957",
   "metadata": {},
   "outputs": [
    {
     "ename": "LoadError",
     "evalue": "UndefVarError: miFunción3 not defined",
     "output_type": "error",
     "traceback": [
      "UndefVarError: miFunción3 not defined",
      "",
      "Stacktrace:",
      " [1] top-level scope",
      "   @ In[5]:1"
     ]
    }
   ],
   "source": [
    "miFunción3() # No funciona porque no lo incluimos en la declaración `export`"
   ]
  },
  {
   "cell_type": "markdown",
   "id": "4540fd3f",
   "metadata": {},
   "source": [
    "Si algo se definió dentro del módulo `NombreDelMódulo` pero no se incluyó su nombre en la declaración `export`, podemos llamarlo si lo precedemos de la sintáxis `NombreDelMódulo.`:"
   ]
  },
  {
   "cell_type": "code",
   "execution_count": 6,
   "id": "64d26639",
   "metadata": {
    "scrolled": true
   },
   "outputs": [
    {
     "name": "stdout",
     "output_type": "stream",
     "text": [
      "Acabas de llamar a miFunción3."
     ]
    }
   ],
   "source": [
    "Main.MiMódulo.miFunción3()"
   ]
  },
  {
   "cell_type": "markdown",
   "id": "9787eaf2",
   "metadata": {},
   "source": [
    "Podemos cargar varios módulos con un solo comando `using` separando sus nombres con una coma, es decir, como en `using Módulo1, Módulo2, Módulo3`.\n",
    "\n",
    "Si sólo queremos cargar algunos de los contenidos de un módulo a nuestro código, podemos utilizar la sintáxis `using NombreDelMódulo: Nombre1, Nombre2, Nombre3`. De esta manera, no tenemos que cargar _todo_ el módulo, sino sólo las partes que utilizaremos.\n",
    "\n",
    "**Nota** A veces resulta deseable cargar un módulo con un nombre distinto al original. La mejor forma de hacer esto es definir una constante con el nombre que queremos para el módulo y asignarle como valor el nombre original del módulo. Por ejemplo:"
   ]
  },
  {
   "cell_type": "code",
   "execution_count": 7,
   "id": "b445b41d",
   "metadata": {},
   "outputs": [
    {
     "data": {
      "text/plain": [
       "Main.MiMódulo"
      ]
     },
     "execution_count": 7,
     "metadata": {},
     "output_type": "execute_result"
    }
   ],
   "source": [
    "const MM = Main.MiMódulo #Definir el nombre como constante optimiza su sustitución."
   ]
  },
  {
   "cell_type": "code",
   "execution_count": 8,
   "id": "54baae9a",
   "metadata": {},
   "outputs": [
    {
     "name": "stdout",
     "output_type": "stream",
     "text": [
      "Acabas de llamar a miFunción3."
     ]
    }
   ],
   "source": [
    "MM.miFunción3() #Resulta más sencillo escribir esto que 'Main.MiMódulo.miFunción3()'."
   ]
  },
  {
   "cell_type": "markdown",
   "id": "f5427325",
   "metadata": {},
   "source": [
    "#### `import`\n",
    "\n",
    "También se pueden cargar los contenidos de un módulo con la sintáxis `import NombreDelMódulo`. Sin embargo, este comando ignorará la declaración `export` del módulo `NombreDelMódulo`, por lo que tendremos que escribir `NombreDelMódulo.` antes de cualquier nombre que haya sido definido en ese módulo para poder usarlo."
   ]
  },
  {
   "cell_type": "markdown",
   "id": "26c9d86f",
   "metadata": {},
   "source": [
    "## Paquetes\n",
    "\n",
    "Para poder compartir nuestros módulos con otras personas de manera sencilla, podemos usarlos para formar **paquetes**. A grosso modo, un _paquete_ de Julia es un módulo con toda la estructura necesaria para que pueda ser _instalado_ en una computadora.\n",
    "\n",
    "### `Pkg`\n",
    "\n",
    "En Julia, los paquetes se instalan, actualizan y desinstalan utilizando el administrador de paquetes `Pkg`. Para entrar al modo de administración de paquetes en un REPL de Julia, basta con presionar la tecla `]`; ¡esto es justo lo que te pedimos hacer en las [instrucciones para instalar IJulia y Pluto del repositorio del curso](https://github.com/dabnciencias/AC/)! Una vez que Julia está en modo de administración de paquetes -y el _prompt_ de la terminal haya cambiado a algo como `pkg>`-, la sintáxis para instalar, actualizar y desinstalar paquetes es\n",
    "* `add Paquete`,\n",
    "* `update Paquete`, y\n",
    "* `rm Paquete`,\n",
    "\n",
    "respectivamente. Como Jupyter no es propiamente un REPL, tendremos que escribir `] ` (con un espacio) antes de los comandos anteriores para que Julia sepa que debe entrar al modo de administración de paquetes primero: "
   ]
  },
  {
   "cell_type": "code",
   "execution_count": 9,
   "id": "41f8c7f2",
   "metadata": {},
   "outputs": [
    {
     "name": "stderr",
     "output_type": "stream",
     "text": [
      "\u001b[32m\u001b[1m    Updating\u001b[22m\u001b[39m registry at `C:\\Users\\Asus\\.julia\\registries\\General.toml`\n",
      "\u001b[32m\u001b[1m   Resolving\u001b[22m\u001b[39m package versions...\n",
      "\u001b[32m\u001b[1m  No Changes\u001b[22m\u001b[39m to `C:\\Users\\Asus\\.julia\\environments\\v1.8\\Project.toml`\n",
      "\u001b[32m\u001b[1m  No Changes\u001b[22m\u001b[39m to `C:\\Users\\Asus\\.julia\\environments\\v1.8\\Manifest.toml`\n"
     ]
    }
   ],
   "source": [
    "] add LinearAlgebra"
   ]
  },
  {
   "cell_type": "code",
   "execution_count": 10,
   "id": "ab04ae07",
   "metadata": {},
   "outputs": [
    {
     "name": "stderr",
     "output_type": "stream",
     "text": [
      "\u001b[32m\u001b[1m    Updating\u001b[22m\u001b[39m registry at `C:\\Users\\Asus\\.julia\\registries\\General.toml`\n",
      "\u001b[32m\u001b[1m   Installed\u001b[22m\u001b[39m Tricks ───────────── v0.1.7\n",
      "\u001b[32m\u001b[1m   Installed\u001b[22m\u001b[39m OpenSSL_jll ──────── v1.1.20+0\n",
      "\u001b[32m\u001b[1m   Installed\u001b[22m\u001b[39m OrderedCollections ─ v1.6.0\n",
      "\u001b[32m\u001b[1m   Installed\u001b[22m\u001b[39m MsgPack ──────────── v1.2.0\n",
      "\u001b[32m\u001b[1m   Installed\u001b[22m\u001b[39m Conda ────────────── v1.8.0\n",
      "\u001b[32m\u001b[1m   Installed\u001b[22m\u001b[39m Parsers ──────────── v2.5.8\n",
      "\u001b[32m\u001b[1m   Installed\u001b[22m\u001b[39m Scratch ──────────── v1.2.0\n",
      "\u001b[32m\u001b[1m   Installed\u001b[22m\u001b[39m Tables ───────────── v1.10.1\n",
      "\u001b[32m\u001b[1m   Installed\u001b[22m\u001b[39m URIs ─────────────── v1.4.2\n",
      "\u001b[32m\u001b[1m  No Changes\u001b[22m\u001b[39m to `C:\\Users\\Asus\\.julia\\environments\\v1.8\\Project.toml`\n",
      "\u001b[32m\u001b[1m    Updating\u001b[22m\u001b[39m `C:\\Users\\Asus\\.julia\\environments\\v1.8\\Manifest.toml`\n",
      " \u001b[90m [8f4d0f93] \u001b[39m\u001b[93m↑ Conda v1.7.0 ⇒ v1.8.0\u001b[39m\n",
      " \u001b[90m [99f44e22] \u001b[39m\u001b[93m↑ MsgPack v1.1.0 ⇒ v1.2.0\u001b[39m\n",
      " \u001b[90m [bac558e1] \u001b[39m\u001b[93m↑ OrderedCollections v1.4.1 ⇒ v1.6.0\u001b[39m\n",
      " \u001b[90m [69de0a69] \u001b[39m\u001b[93m↑ Parsers v2.5.3 ⇒ v2.5.8\u001b[39m\n",
      " \u001b[90m [6c6a2e73] \u001b[39m\u001b[93m↑ Scratch v1.1.1 ⇒ v1.2.0\u001b[39m\n",
      " \u001b[90m [bd369af6] \u001b[39m\u001b[93m↑ Tables v1.10.0 ⇒ v1.10.1\u001b[39m\n",
      " \u001b[90m [410a4b4d] \u001b[39m\u001b[93m↑ Tricks v0.1.6 ⇒ v0.1.7\u001b[39m\n",
      " \u001b[90m [5c2747f8] \u001b[39m\u001b[93m↑ URIs v1.4.1 ⇒ v1.4.2\u001b[39m\n",
      " \u001b[90m [458c3c95] \u001b[39m\u001b[93m↑ OpenSSL_jll v1.1.19+0 ⇒ v1.1.20+0\u001b[39m\n",
      "\u001b[32m\u001b[1m    Building\u001b[22m\u001b[39m Conda → `C:\\Users\\Asus\\.julia\\scratchspaces\\44cfe95a-1eb2-52ea-b672-e2afdf69b78f\\e32a90da027ca45d84678b826fffd3110bb3fc90\\build.log`\n",
      "\u001b[32m\u001b[1mPrecompiling\u001b[22m\u001b[39m project...\n",
      "\u001b[32m  ✓ \u001b[39m\u001b[90mTricks\u001b[39m\n",
      "\u001b[33m  ✓ \u001b[39m\u001b[90mOrderedCollections\u001b[39m\n",
      "\u001b[32m  ✓ \u001b[39m\u001b[90mURIs\u001b[39m\n",
      "\u001b[32m  ✓ \u001b[39m\u001b[90mScratch\u001b[39m\n",
      "\u001b[32m  ✓ \u001b[39m\u001b[90mMsgPack\u001b[39m\n",
      "\u001b[33m  ✓ \u001b[39m\u001b[90mOpenSSL_jll\u001b[39m\n",
      "\u001b[32m  ✓ \u001b[39m\u001b[90mHypertextLiteral\u001b[39m\n",
      "\u001b[33m  ✓ \u001b[39m\u001b[90mDataStructures\u001b[39m\n",
      "\u001b[32m  ✓ \u001b[39m\u001b[90mConfigurations\u001b[39m\n",
      "\u001b[32m  ✓ \u001b[39m\u001b[90mRelocatableFolders\u001b[39m\n",
      "\u001b[32m  ✓ \u001b[39m\u001b[90mTables\u001b[39m\n",
      "\u001b[32m  ✓ \u001b[39m\u001b[90mOpenSSL\u001b[39m\n",
      "\u001b[33m  ✓ \u001b[39m\u001b[90mFFMPEG_jll\u001b[39m\n",
      "\u001b[33m  ✓ \u001b[39m\u001b[90mSortingAlgorithms\u001b[39m\n",
      "\u001b[33m  ✓ \u001b[39m\u001b[90mFFMPEG\u001b[39m\n",
      "\u001b[33m  ✓ \u001b[39m\u001b[90mStatsBase\u001b[39m\n",
      "\u001b[32m  ✓ \u001b[39m\u001b[90mHTTP\u001b[39m\n",
      "\u001b[33m  ✓ \u001b[39m\u001b[90mParsers\u001b[39m\n",
      "\u001b[33m  ✓ \u001b[39m\u001b[90mJSON\u001b[39m\n",
      "\u001b[32m  ✓ \u001b[39m\u001b[90mColorVectorSpace\u001b[39m\n",
      "\u001b[33m  ✓ \u001b[39m\u001b[90mConda\u001b[39m\n",
      "\u001b[32m  ✓ \u001b[39m\u001b[90mQuartzImageIO\u001b[39m\n",
      "\u001b[33m  ✓ \u001b[39mIJulia\n",
      "\u001b[33m  ✓ \u001b[39m\u001b[90mLuxor\u001b[39m\n",
      "\u001b[32m  ✓ \u001b[39mPluto\n",
      "\u001b[33m  ✓ \u001b[39mPlots\n",
      "  26 dependencies successfully precompiled in 127 seconds. 125 already precompiled. 2 skipped during auto due to previous errors.\n",
      "  \u001b[33m13\u001b[39m dependencies precompiled but different versions are currently loaded. Restart julia to access the new versions\n",
      "\u001b[36m\u001b[1m[ \u001b[22m\u001b[39m\u001b[36m\u001b[1mInfo: \u001b[22m\u001b[39mWe haven't cleaned this depot up for a bit, running Pkg.gc()...\n",
      "\u001b[32m\u001b[1m      Active\u001b[22m\u001b[39m manifest files: 1 found\n",
      "\u001b[32m\u001b[1m      Active\u001b[22m\u001b[39m artifact files: 53 found\n",
      "\u001b[32m\u001b[1m      Active\u001b[22m\u001b[39m scratchspaces: 6 found\n",
      "\u001b[32m\u001b[1m     Deleted\u001b[22m\u001b[39m no artifacts, repos, packages or scratchspaces\n"
     ]
    }
   ],
   "source": [
    "] update LinearAlgebra"
   ]
  },
  {
   "cell_type": "code",
   "execution_count": 10,
   "id": "d5ae3011",
   "metadata": {},
   "outputs": [
    {
     "name": "stderr",
     "output_type": "stream",
     "text": [
      "\u001b[32m\u001b[1m    Updating\u001b[22m\u001b[39m `C:\\Users\\Asus\\.julia\\environments\\v1.8\\Project.toml`\n",
      " \u001b[90m [a7f2b756] \u001b[39m\u001b[91m- ThinkJulia v0.0.0 `https://github.com/BenLauwens/ThinkJulia.jl#master`\u001b[39m\n",
      "\u001b[32m\u001b[1m    Updating\u001b[22m\u001b[39m `C:\\Users\\Asus\\.julia\\environments\\v1.8\\Manifest.toml`\n",
      " \u001b[90m [621f4979] \u001b[39m\u001b[91m- AbstractFFTs v1.3.1\u001b[39m\n",
      " \u001b[90m [79e6a3ab] \u001b[39m\u001b[91m- Adapt v3.6.1\u001b[39m\n",
      " \u001b[90m [b99e7846] \u001b[39m\u001b[91m- BinaryProvider v0.5.10\u001b[39m\n",
      " \u001b[90m [159f3aea] \u001b[39m\u001b[91m- Cairo v1.0.5\u001b[39m\n",
      " \u001b[90m [c3611d14] \u001b[39m\u001b[91m- ColorVectorSpace v0.8.7\u001b[39m\n",
      " \u001b[90m [5789e2e9] \u001b[39m\u001b[91m- FileIO v1.16.0\u001b[39m\n",
      " \u001b[90m [a2bd30eb] \u001b[39m\u001b[91m- Graphics v1.1.2\u001b[39m\n",
      " \u001b[90m [a09fc81d] \u001b[39m\u001b[91m- ImageCore v0.8.22\u001b[39m\n",
      " \u001b[90m [6218d12a] \u001b[39m\u001b[91m- ImageMagick v0.7.9\u001b[39m\n",
      " \u001b[90m [e5e0dc1b] \u001b[39m\u001b[91m- Juno v0.8.4\u001b[39m\n",
      " \u001b[90m [b964fa9f] \u001b[39m\u001b[91m- LaTeXStrings v1.3.0\u001b[39m\n",
      " \u001b[90m [ae8d54c2] \u001b[39m\u001b[91m- Luxor v1.12.0\u001b[39m\n",
      " \u001b[90m [1914dd2f] \u001b[39m\u001b[91m- MacroTools v0.5.10\u001b[39m\n",
      " \u001b[90m [dbb5928d] \u001b[39m\u001b[91m- MappedArrays v0.4.1\u001b[39m\n",
      " \u001b[90m [e89f7d12] \u001b[39m\u001b[91m- Media v0.5.0\u001b[39m\n",
      " \u001b[90m [e94cdb99] \u001b[39m\u001b[91m- MosaicViews v0.3.4\u001b[39m\n",
      " \u001b[90m [6fe1bfb0] \u001b[39m\u001b[91m- OffsetArrays v1.12.9\u001b[39m\n",
      " \u001b[90m [5432bcbf] \u001b[39m\u001b[91m- PaddedViews v0.5.12\u001b[39m\n",
      " \u001b[90m [dca85d43] \u001b[39m\u001b[91m- QuartzImageIO v0.6.0\u001b[39m\n",
      " \u001b[90m [276daf66] \u001b[39m\u001b[91m- SpecialFunctions v1.8.8\u001b[39m\n",
      " \u001b[90m [cae243ae] \u001b[39m\u001b[91m- StackViews v0.1.1\u001b[39m\n",
      " \u001b[90m [9ac5f52a] \u001b[39m\u001b[91m- Tectonic v0.8.0\u001b[39m\n",
      " \u001b[90m [a7f2b756] \u001b[39m\u001b[91m- ThinkJulia v0.0.0 `https://github.com/BenLauwens/ThinkJulia.jl#master`\u001b[39m\n",
      " \u001b[90m [37f6aa50] \u001b[39m\u001b[91m- TikzPictures v3.4.2\u001b[39m\n",
      " \u001b[90m [aacddb02] \u001b[39m\u001b[91m- JpegTurbo_jll v2.1.91+0\u001b[39m\n",
      " \u001b[90m [88015f11] \u001b[39m\u001b[91m- LERC_jll v3.0.0+1\u001b[39m\n",
      " \u001b[90m [89763e89] \u001b[39m\u001b[91m- Libtiff_jll v4.4.0+0\u001b[39m\n",
      " \u001b[90m [d3a379c0] \u001b[39m\u001b[91m- LittleCMS_jll v2.12.0+0\u001b[39m\n",
      " \u001b[90m [643b3616] \u001b[39m\u001b[91m- OpenJpeg_jll v2.4.0+0\u001b[39m\n",
      " \u001b[90m [efe28fd5] \u001b[39m\u001b[91m- OpenSpecFun_jll v0.5.5+0\u001b[39m\n",
      " \u001b[90m [36c8627f] \u001b[39m\u001b[91m- Pango_jll v1.50.9+0\u001b[39m\n",
      " \u001b[90m [9c32591e] \u001b[39m\u001b[91m- Poppler_jll v0.87.0+2\u001b[39m\n",
      " \u001b[90m [3161d3a3] \u001b[39m\u001b[91m- Zstd_jll v1.5.5+0\u001b[39m\n",
      " \u001b[90m [9abbd945] \u001b[39m\u001b[91m- Profile\u001b[39m\n",
      " \u001b[90m [05823500] \u001b[39m\u001b[91m- OpenLibm_jll v0.8.1+0\u001b[39m\n",
      "\u001b[36m\u001b[1m[ \u001b[22m\u001b[39m\u001b[36m\u001b[1mInfo: \u001b[22m\u001b[39mWe haven't cleaned this depot up for a bit, running Pkg.gc()...\n",
      "\u001b[32m\u001b[1m      Active\u001b[22m\u001b[39m manifest files: 1 found\n",
      "\u001b[32m\u001b[1m      Active\u001b[22m\u001b[39m artifact files: 53 found\n",
      "\u001b[32m\u001b[1m      Active\u001b[22m\u001b[39m scratchspaces: 6 found\n",
      "\u001b[32m\u001b[1m     Deleted\u001b[22m\u001b[39m 9 package installations (868.187 KiB)\n"
     ]
    }
   ],
   "source": [
    "] rm ThinkJulia"
   ]
  },
  {
   "cell_type": "markdown",
   "id": "23db39c0",
   "metadata": {},
   "source": [
    "¡Oh, no, acabamos de desinstalar el paquete ThinkJulia con el que dibujábamos con tortuguitas! Rápido, ¡reinstalémoslo!"
   ]
  },
  {
   "cell_type": "code",
   "execution_count": 11,
   "id": "9d608703",
   "metadata": {},
   "outputs": [
    {
     "ename": "LoadError",
     "evalue": "The following package names could not be resolved:\n * ThinkJulia (not found in project, manifest or registry)",
     "output_type": "error",
     "traceback": [
      "The following package names could not be resolved:\n * ThinkJulia (not found in project, manifest or registry)",
      "",
      "Stacktrace:",
      " [1] pkgerror(msg::String)",
      "   @ Pkg.Types C:\\Users\\Asus\\AppData\\Local\\Programs\\Julia-1.8.5\\share\\julia\\stdlib\\v1.8\\Pkg\\src\\Types.jl:67",
      " [2] ensure_resolved(ctx::Pkg.Types.Context, manifest::Pkg.Types.Manifest, pkgs::Vector{Pkg.Types.PackageSpec}; registry::Bool)",
      "   @ Pkg.Types C:\\Users\\Asus\\AppData\\Local\\Programs\\Julia-1.8.5\\share\\julia\\stdlib\\v1.8\\Pkg\\src\\Types.jl:952",
      " [3] add(ctx::Pkg.Types.Context, pkgs::Vector{Pkg.Types.PackageSpec}; preserve::Pkg.Types.PreserveLevel, platform::Base.BinaryPlatforms.Platform, kwargs::Base.Pairs{Symbol, IJulia.IJuliaStdio{Base.PipeEndpoint}, Tuple{Symbol}, NamedTuple{(:io,), Tuple{IJulia.IJuliaStdio{Base.PipeEndpoint}}}})",
      "   @ Pkg.API C:\\Users\\Asus\\AppData\\Local\\Programs\\Julia-1.8.5\\share\\julia\\stdlib\\v1.8\\Pkg\\src\\API.jl:264",
      " [4] add(pkgs::Vector{Pkg.Types.PackageSpec}; io::IJulia.IJuliaStdio{Base.PipeEndpoint}, kwargs::Base.Pairs{Symbol, Union{}, Tuple{}, NamedTuple{(), Tuple{}}})",
      "   @ Pkg.API C:\\Users\\Asus\\AppData\\Local\\Programs\\Julia-1.8.5\\share\\julia\\stdlib\\v1.8\\Pkg\\src\\API.jl:156",
      " [5] add(pkgs::Vector{Pkg.Types.PackageSpec})",
      "   @ Pkg.API C:\\Users\\Asus\\AppData\\Local\\Programs\\Julia-1.8.5\\share\\julia\\stdlib\\v1.8\\Pkg\\src\\API.jl:145",
      " [6] do_cmd!(command::Pkg.REPLMode.Command, repl::IJulia.MiniREPL)",
      "   @ Pkg.REPLMode C:\\Users\\Asus\\AppData\\Local\\Programs\\Julia-1.8.5\\share\\julia\\stdlib\\v1.8\\Pkg\\src\\REPLMode\\REPLMode.jl:409",
      " [7] do_cmd(repl::IJulia.MiniREPL, input::String; do_rethrow::Bool)",
      "   @ Pkg.REPLMode C:\\Users\\Asus\\AppData\\Local\\Programs\\Julia-1.8.5\\share\\julia\\stdlib\\v1.8\\Pkg\\src\\REPLMode\\REPLMode.jl:387",
      " [8] top-level scope",
      "   @ In[11]:1"
     ]
    }
   ],
   "source": [
    "] add ThinkJulia"
   ]
  },
  {
   "cell_type": "markdown",
   "id": "59438f86",
   "metadata": {},
   "source": [
    "A diferencia de los paquetes anteriores, parece que `ThinkJulia` no está 'registrado' (lo que sea que eso signifique). Para poder instalar un paquete no registrado, debemos especificar el URL en el que se encuentra. En el caso de ThinkJulia, este paquete se encuentra disponible en un repositorio de GitHub llamado [ThinkJulia.jl](https://github.com/BenLauwens/ThinkJulia.jl)."
   ]
  },
  {
   "cell_type": "code",
   "execution_count": 12,
   "id": "e809afbc",
   "metadata": {
    "scrolled": true
   },
   "outputs": [
    {
     "name": "stderr",
     "output_type": "stream",
     "text": [
      "\u001b[32m\u001b[1m    Updating\u001b[22m\u001b[39m git-repo `https://github.com/BenLauwens/ThinkJulia.jl`\n",
      "\u001b[32m\u001b[1m   Resolving\u001b[22m\u001b[39m package versions...\n",
      "\u001b[32m\u001b[1m    Updating\u001b[22m\u001b[39m `C:\\Users\\Asus\\.julia\\environments\\v1.8\\Project.toml`\n",
      " \u001b[90m [a7f2b756] \u001b[39m\u001b[92m+ ThinkJulia v0.0.0 `https://github.com/BenLauwens/ThinkJulia.jl#master`\u001b[39m\n",
      "\u001b[32m\u001b[1m    Updating\u001b[22m\u001b[39m `C:\\Users\\Asus\\.julia\\environments\\v1.8\\Manifest.toml`\n",
      " \u001b[90m [621f4979] \u001b[39m\u001b[92m+ AbstractFFTs v1.3.1\u001b[39m\n",
      " \u001b[90m [79e6a3ab] \u001b[39m\u001b[92m+ Adapt v3.6.1\u001b[39m\n",
      " \u001b[90m [b99e7846] \u001b[39m\u001b[92m+ BinaryProvider v0.5.10\u001b[39m\n",
      " \u001b[90m [159f3aea] \u001b[39m\u001b[92m+ Cairo v1.0.5\u001b[39m\n",
      "\u001b[33m⌅\u001b[39m\u001b[90m [c3611d14] \u001b[39m\u001b[92m+ ColorVectorSpace v0.8.7\u001b[39m\n",
      " \u001b[90m [5789e2e9] \u001b[39m\u001b[92m+ FileIO v1.16.0\u001b[39m\n",
      " \u001b[90m [a2bd30eb] \u001b[39m\u001b[92m+ Graphics v1.1.2\u001b[39m\n",
      "\u001b[33m⌅\u001b[39m\u001b[90m [a09fc81d] \u001b[39m\u001b[92m+ ImageCore v0.8.22\u001b[39m\n",
      "\u001b[33m⌅\u001b[39m\u001b[90m [6218d12a] \u001b[39m\u001b[92m+ ImageMagick v0.7.9\u001b[39m\n",
      " \u001b[90m [e5e0dc1b] \u001b[39m\u001b[92m+ Juno v0.8.4\u001b[39m\n",
      " \u001b[90m [b964fa9f] \u001b[39m\u001b[92m+ LaTeXStrings v1.3.0\u001b[39m\n",
      "\u001b[32m⌃\u001b[39m\u001b[90m [ae8d54c2] \u001b[39m\u001b[92m+ Luxor v1.12.0\u001b[39m\n",
      " \u001b[90m [1914dd2f] \u001b[39m\u001b[92m+ MacroTools v0.5.10\u001b[39m\n",
      " \u001b[90m [dbb5928d] \u001b[39m\u001b[92m+ MappedArrays v0.4.1\u001b[39m\n",
      " \u001b[90m [e89f7d12] \u001b[39m\u001b[92m+ Media v0.5.0\u001b[39m\n",
      " \u001b[90m [e94cdb99] \u001b[39m\u001b[92m+ MosaicViews v0.3.4\u001b[39m\n",
      " \u001b[90m [6fe1bfb0] \u001b[39m\u001b[92m+ OffsetArrays v1.12.9\u001b[39m\n",
      " \u001b[90m [5432bcbf] \u001b[39m\u001b[92m+ PaddedViews v0.5.12\u001b[39m\n",
      "\u001b[33m⌅\u001b[39m\u001b[90m [dca85d43] \u001b[39m\u001b[92m+ QuartzImageIO v0.6.0\u001b[39m\n",
      "\u001b[33m⌅\u001b[39m\u001b[90m [276daf66] \u001b[39m\u001b[92m+ SpecialFunctions v1.8.8\u001b[39m\n",
      " \u001b[90m [cae243ae] \u001b[39m\u001b[92m+ StackViews v0.1.1\u001b[39m\n",
      " \u001b[90m [9ac5f52a] \u001b[39m\u001b[92m+ Tectonic v0.8.0\u001b[39m\n",
      " \u001b[90m [a7f2b756] \u001b[39m\u001b[92m+ ThinkJulia v0.0.0 `https://github.com/BenLauwens/ThinkJulia.jl#master`\u001b[39m\n",
      " \u001b[90m [37f6aa50] \u001b[39m\u001b[92m+ TikzPictures v3.4.2\u001b[39m\n",
      " \u001b[90m [aacddb02] \u001b[39m\u001b[92m+ JpegTurbo_jll v2.1.91+0\u001b[39m\n",
      " \u001b[90m [88015f11] \u001b[39m\u001b[92m+ LERC_jll v3.0.0+1\u001b[39m\n",
      " \u001b[90m [89763e89] \u001b[39m\u001b[92m+ Libtiff_jll v4.4.0+0\u001b[39m\n",
      " \u001b[90m [d3a379c0] \u001b[39m\u001b[92m+ LittleCMS_jll v2.12.0+0\u001b[39m\n",
      " \u001b[90m [643b3616] \u001b[39m\u001b[92m+ OpenJpeg_jll v2.4.0+0\u001b[39m\n",
      " \u001b[90m [efe28fd5] \u001b[39m\u001b[92m+ OpenSpecFun_jll v0.5.5+0\u001b[39m\n",
      " \u001b[90m [36c8627f] \u001b[39m\u001b[92m+ Pango_jll v1.50.9+0\u001b[39m\n",
      "\u001b[33m⌅\u001b[39m\u001b[90m [9c32591e] \u001b[39m\u001b[92m+ Poppler_jll v0.87.0+2\u001b[39m\n",
      " \u001b[90m [3161d3a3] \u001b[39m\u001b[92m+ Zstd_jll v1.5.5+0\u001b[39m\n",
      " \u001b[90m [9abbd945] \u001b[39m\u001b[92m+ Profile\u001b[39m\n",
      " \u001b[90m [05823500] \u001b[39m\u001b[92m+ OpenLibm_jll v0.8.1+0\u001b[39m\n",
      "\u001b[36m\u001b[1m        Info\u001b[22m\u001b[39m Packages marked with \u001b[32m⌃\u001b[39m and \u001b[33m⌅\u001b[39m have new versions available, but those with \u001b[33m⌅\u001b[39m are restricted by compatibility constraints from upgrading. To see why use `status --outdated -m`\n"
     ]
    }
   ],
   "source": [
    "] add https://github.com/BenLauwens/ThinkJulia.jl"
   ]
  },
  {
   "cell_type": "markdown",
   "id": "214d0a42",
   "metadata": {},
   "source": [
    "## Resumen\n",
    "\n",
    "Existen varias limitaciones que surgen de querer escribir todo el código de un programa en un solo archivo, que se resuelven a través de la _programación modular_ -esto es, la separación de código en unidades independientes que se pueden integrar unas con otras. La programación modular ofrece muchos beneficios relacionados con la compacidad, claridad, reutilizabilidad y distributividad de código, por lo que es importante entender sus principios.\n",
    "\n",
    "Julia ofrece formas de cargar módulos ajenos y crear módulos propios, así como instalar y compartir módulos a través de internet ofrecidos en forma de _paquetes_ usando el administrador de paquetes `Pkg`."
   ]
  },
  {
   "cell_type": "markdown",
   "id": "a29013c6",
   "metadata": {},
   "source": [
    "## Recursos complementarios\n",
    "* Página de Wikipedia de [programación modular](https://en.wikipedia.org/wiki/Modular_programming).\n",
    "* Manual de [Code Loading](https://docs.julialang.org/en/v1/manual/code-loading/) de Julia.\n",
    "* Manual de [Submódulos](https://docs.julialang.org/en/v1/manual/modules/#Submodules-and-relative-paths) de Julia.\n",
    "* [Preguntas frecuentes sobre Módulos y Paquetes](https://docs.julialang.org/en/v1/manual/faq/#Packages-and-Modules) en Julia.\n",
    "* Documentación del [administrador de paquetes `Pkg`](https://docs.julialang.org/en/v1/stdlib/Pkg/) de Julia ."
   ]
  }
 ],
 "metadata": {
  "kernelspec": {
   "display_name": "Julia 1.8.5",
   "language": "julia",
   "name": "julia-1.8"
  },
  "language_info": {
   "file_extension": ".jl",
   "mimetype": "application/julia",
   "name": "julia",
   "version": "1.8.5"
  }
 },
 "nbformat": 4,
 "nbformat_minor": 5
}
